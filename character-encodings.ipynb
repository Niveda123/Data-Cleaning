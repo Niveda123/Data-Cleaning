{
 "cells": [
  {
   "cell_type": "markdown",
   "id": "0cdce4b7",
   "metadata": {
    "papermill": {
     "duration": 0.006474,
     "end_time": "2022-10-15T08:24:38.027557",
     "exception": false,
     "start_time": "2022-10-15T08:24:38.021083",
     "status": "completed"
    },
    "tags": []
   },
   "source": [
    "**This notebook is an exercise in the [Data Cleaning](https://www.kaggle.com/learn/data-cleaning) course.  You can reference the tutorial at [this link](https://www.kaggle.com/alexisbcook/character-encodings).**\n",
    "\n",
    "---\n"
   ]
  },
  {
   "cell_type": "markdown",
   "id": "f2de28f2",
   "metadata": {
    "papermill": {
     "duration": 0.004431,
     "end_time": "2022-10-15T08:24:38.037316",
     "exception": false,
     "start_time": "2022-10-15T08:24:38.032885",
     "status": "completed"
    },
    "tags": []
   },
   "source": [
    "In this exercise, you'll apply what you learned in the **Character encodings** tutorial.\n",
    "\n",
    "# Setup\n",
    "\n",
    "The questions below will give you feedback on your work. Run the following cell to set up the feedback system."
   ]
  },
  {
   "cell_type": "code",
   "execution_count": 1,
   "id": "68f9d24c",
   "metadata": {
    "execution": {
     "iopub.execute_input": "2022-10-15T08:24:38.049355Z",
     "iopub.status.busy": "2022-10-15T08:24:38.048524Z",
     "iopub.status.idle": "2022-10-15T08:24:38.150107Z",
     "shell.execute_reply": "2022-10-15T08:24:38.148642Z"
    },
    "papermill": {
     "duration": 0.110813,
     "end_time": "2022-10-15T08:24:38.152932",
     "exception": false,
     "start_time": "2022-10-15T08:24:38.042119",
     "status": "completed"
    },
    "tags": []
   },
   "outputs": [
    {
     "name": "stdout",
     "output_type": "stream",
     "text": [
      "Setup Complete\n"
     ]
    }
   ],
   "source": [
    "from learntools.core import binder\n",
    "binder.bind(globals())\n",
    "from learntools.data_cleaning.ex4 import *\n",
    "print(\"Setup Complete\")"
   ]
  },
  {
   "cell_type": "markdown",
   "id": "22e5b97e",
   "metadata": {
    "papermill": {
     "duration": 0.004609,
     "end_time": "2022-10-15T08:24:38.162540",
     "exception": false,
     "start_time": "2022-10-15T08:24:38.157931",
     "status": "completed"
    },
    "tags": []
   },
   "source": [
    "# Get our environment set up\n",
    "\n",
    "The first thing we'll need to do is load in the libraries we'll be using."
   ]
  },
  {
   "cell_type": "code",
   "execution_count": 2,
   "id": "29b9ab43",
   "metadata": {
    "execution": {
     "iopub.execute_input": "2022-10-15T08:24:38.174282Z",
     "iopub.status.busy": "2022-10-15T08:24:38.173791Z",
     "iopub.status.idle": "2022-10-15T08:24:38.180199Z",
     "shell.execute_reply": "2022-10-15T08:24:38.178807Z"
    },
    "papermill": {
     "duration": 0.015572,
     "end_time": "2022-10-15T08:24:38.183063",
     "exception": false,
     "start_time": "2022-10-15T08:24:38.167491",
     "status": "completed"
    },
    "tags": []
   },
   "outputs": [],
   "source": [
    "# modules we'll use\n",
    "import pandas as pd\n",
    "import numpy as np\n",
    "\n",
    "# helpful character encoding module\n",
    "import chardet\n",
    "\n",
    "# set seed for reproducibility\n",
    "np.random.seed(0)"
   ]
  },
  {
   "cell_type": "markdown",
   "id": "dc704c56",
   "metadata": {
    "papermill": {
     "duration": 0.005023,
     "end_time": "2022-10-15T08:24:38.193156",
     "exception": false,
     "start_time": "2022-10-15T08:24:38.188133",
     "status": "completed"
    },
    "tags": []
   },
   "source": [
    "# 1) What are encodings?\n",
    "\n",
    "You're working with a dataset composed of bytes.  Run the code cell below to print a sample entry."
   ]
  },
  {
   "cell_type": "code",
   "execution_count": 3,
   "id": "90e552bb",
   "metadata": {
    "execution": {
     "iopub.execute_input": "2022-10-15T08:24:38.206791Z",
     "iopub.status.busy": "2022-10-15T08:24:38.206320Z",
     "iopub.status.idle": "2022-10-15T08:24:38.213598Z",
     "shell.execute_reply": "2022-10-15T08:24:38.211886Z"
    },
    "papermill": {
     "duration": 0.0175,
     "end_time": "2022-10-15T08:24:38.216497",
     "exception": false,
     "start_time": "2022-10-15T08:24:38.198997",
     "status": "completed"
    },
    "tags": []
   },
   "outputs": [
    {
     "name": "stdout",
     "output_type": "stream",
     "text": [
      "b'\\xa7A\\xa6n'\n",
      "data type: <class 'bytes'>\n"
     ]
    }
   ],
   "source": [
    "sample_entry = b'\\xa7A\\xa6n'\n",
    "print(sample_entry)\n",
    "print('data type:', type(sample_entry))"
   ]
  },
  {
   "cell_type": "markdown",
   "id": "a750af02",
   "metadata": {
    "papermill": {
     "duration": 0.004732,
     "end_time": "2022-10-15T08:24:38.226814",
     "exception": false,
     "start_time": "2022-10-15T08:24:38.222082",
     "status": "completed"
    },
    "tags": []
   },
   "source": [
    "You notice that it doesn't use the standard UTF-8 encoding. \n",
    "\n",
    "Use the next code cell to create a variable `new_entry` that changes the encoding from `\"big5-tw\"` to `\"utf-8\"`.  `new_entry` should have the bytes datatype."
   ]
  },
  {
   "cell_type": "code",
   "execution_count": 4,
   "id": "ea46e879",
   "metadata": {
    "execution": {
     "iopub.execute_input": "2022-10-15T08:24:38.238631Z",
     "iopub.status.busy": "2022-10-15T08:24:38.238199Z",
     "iopub.status.idle": "2022-10-15T08:24:38.252052Z",
     "shell.execute_reply": "2022-10-15T08:24:38.250827Z"
    },
    "papermill": {
     "duration": 0.022856,
     "end_time": "2022-10-15T08:24:38.254622",
     "exception": false,
     "start_time": "2022-10-15T08:24:38.231766",
     "status": "completed"
    },
    "tags": []
   },
   "outputs": [
    {
     "data": {
      "application/javascript": [
       "parent.postMessage({\"jupyterEvent\": \"custom.exercise_interaction\", \"data\": {\"outcomeType\": 1, \"valueTowardsCompletion\": 0.3333333333333333, \"interactionType\": 1, \"questionType\": 1, \"questionId\": \"1_EncodingsIntro\", \"learnToolsVersion\": \"0.3.4\", \"failureMessage\": \"\", \"exceptionClass\": \"\", \"trace\": \"\"}}, \"*\")"
      ],
      "text/plain": [
       "<IPython.core.display.Javascript object>"
      ]
     },
     "metadata": {},
     "output_type": "display_data"
    },
    {
     "data": {
      "text/markdown": [
       "<span style=\"color:#33cc33\">Correct</span>"
      ],
      "text/plain": [
       "Correct"
      ]
     },
     "metadata": {},
     "output_type": "display_data"
    }
   ],
   "source": [
    "before = sample_entry.decode(\"big5-tw\")\n",
    "new_entry = before.encode()\n",
    "\n",
    "# Check your answer\n",
    "q1.check()"
   ]
  },
  {
   "cell_type": "code",
   "execution_count": 5,
   "id": "96e0f5b2",
   "metadata": {
    "execution": {
     "iopub.execute_input": "2022-10-15T08:24:38.267492Z",
     "iopub.status.busy": "2022-10-15T08:24:38.267056Z",
     "iopub.status.idle": "2022-10-15T08:24:38.271836Z",
     "shell.execute_reply": "2022-10-15T08:24:38.270689Z"
    },
    "papermill": {
     "duration": 0.013807,
     "end_time": "2022-10-15T08:24:38.274129",
     "exception": false,
     "start_time": "2022-10-15T08:24:38.260322",
     "status": "completed"
    },
    "tags": []
   },
   "outputs": [],
   "source": [
    "# Lines below will give you a hint or solution code\n",
    "#q1.hint()\n",
    "#q1.solution()"
   ]
  },
  {
   "cell_type": "markdown",
   "id": "f0c03a98",
   "metadata": {
    "papermill": {
     "duration": 0.004718,
     "end_time": "2022-10-15T08:24:38.284061",
     "exception": false,
     "start_time": "2022-10-15T08:24:38.279343",
     "status": "completed"
    },
    "tags": []
   },
   "source": [
    "# 2) Reading in files with encoding problems\n",
    "\n",
    "Use the code cell below to read in this file at path `\"../input/fatal-police-shootings-in-the-us/PoliceKillingsUS.csv\"`.  \n",
    "\n",
    "Figure out what the correct encoding should be and read in the file to a DataFrame `police_killings`."
   ]
  },
  {
   "cell_type": "code",
   "execution_count": 6,
   "id": "f091e6fc",
   "metadata": {
    "execution": {
     "iopub.execute_input": "2022-10-15T08:24:38.295938Z",
     "iopub.status.busy": "2022-10-15T08:24:38.295516Z",
     "iopub.status.idle": "2022-10-15T08:24:38.323734Z",
     "shell.execute_reply": "2022-10-15T08:24:38.322714Z"
    },
    "papermill": {
     "duration": 0.036995,
     "end_time": "2022-10-15T08:24:38.326041",
     "exception": false,
     "start_time": "2022-10-15T08:24:38.289046",
     "status": "completed"
    },
    "tags": []
   },
   "outputs": [
    {
     "data": {
      "application/javascript": [
       "parent.postMessage({\"jupyterEvent\": \"custom.exercise_interaction\", \"data\": {\"outcomeType\": 1, \"valueTowardsCompletion\": 0.3333333333333333, \"interactionType\": 1, \"questionType\": 1, \"questionId\": \"2_ReadIn\", \"learnToolsVersion\": \"0.3.4\", \"failureMessage\": \"\", \"exceptionClass\": \"\", \"trace\": \"\"}}, \"*\")"
      ],
      "text/plain": [
       "<IPython.core.display.Javascript object>"
      ]
     },
     "metadata": {},
     "output_type": "display_data"
    },
    {
     "data": {
      "text/markdown": [
       "<span style=\"color:#33cc33\">Correct</span>"
      ],
      "text/plain": [
       "Correct"
      ]
     },
     "metadata": {},
     "output_type": "display_data"
    }
   ],
   "source": [
    "# TODO: Load in the DataFrame correctly.\n",
    "police_killings = pd.read_csv(\"../input/fatal-police-shootings-in-the-us/PoliceKillingsUS.csv\", encoding='Windows-1252')\n",
    "\n",
    "# Check your answer\n",
    "q2.check()"
   ]
  },
  {
   "cell_type": "markdown",
   "id": "410e20e4",
   "metadata": {
    "papermill": {
     "duration": 0.005813,
     "end_time": "2022-10-15T08:24:38.337299",
     "exception": false,
     "start_time": "2022-10-15T08:24:38.331486",
     "status": "completed"
    },
    "tags": []
   },
   "source": [
    "Feel free to use any additional code cells for supplemental work.  To get credit for finishing this question, you'll need to run `q2.check()` and get a result of **Correct**."
   ]
  },
  {
   "cell_type": "code",
   "execution_count": 7,
   "id": "55fa0785",
   "metadata": {
    "execution": {
     "iopub.execute_input": "2022-10-15T08:24:38.350984Z",
     "iopub.status.busy": "2022-10-15T08:24:38.349975Z",
     "iopub.status.idle": "2022-10-15T08:24:38.355165Z",
     "shell.execute_reply": "2022-10-15T08:24:38.354279Z"
    },
    "papermill": {
     "duration": 0.014664,
     "end_time": "2022-10-15T08:24:38.357466",
     "exception": false,
     "start_time": "2022-10-15T08:24:38.342802",
     "status": "completed"
    },
    "tags": []
   },
   "outputs": [],
   "source": [
    "# (Optional) Use this code cell for any additional work."
   ]
  },
  {
   "cell_type": "code",
   "execution_count": 8,
   "id": "19985f7f",
   "metadata": {
    "execution": {
     "iopub.execute_input": "2022-10-15T08:24:38.371176Z",
     "iopub.status.busy": "2022-10-15T08:24:38.370589Z",
     "iopub.status.idle": "2022-10-15T08:24:38.376318Z",
     "shell.execute_reply": "2022-10-15T08:24:38.375074Z"
    },
    "papermill": {
     "duration": 0.01472,
     "end_time": "2022-10-15T08:24:38.378692",
     "exception": false,
     "start_time": "2022-10-15T08:24:38.363972",
     "status": "completed"
    },
    "tags": []
   },
   "outputs": [],
   "source": [
    "# Lines below will give you a hint or solution code\n",
    "#q2.hint()\n",
    "#q2.solution()"
   ]
  },
  {
   "cell_type": "markdown",
   "id": "6399e738",
   "metadata": {
    "papermill": {
     "duration": 0.004982,
     "end_time": "2022-10-15T08:24:38.389075",
     "exception": false,
     "start_time": "2022-10-15T08:24:38.384093",
     "status": "completed"
    },
    "tags": []
   },
   "source": [
    "# 3) Saving your files with UTF-8 encoding\n",
    "\n",
    "Save a version of the police killings dataset to CSV with UTF-8 encoding.  Your answer will be marked correct after saving this file.  \n",
    "\n",
    "Note: When using the `to_csv()` method, supply only the name of the file (e.g., `\"my_file.csv\"`).  This saves the file at the filepath `\"/kaggle/working/my_file.csv\"`."
   ]
  },
  {
   "cell_type": "code",
   "execution_count": 9,
   "id": "175f8061",
   "metadata": {
    "execution": {
     "iopub.execute_input": "2022-10-15T08:24:38.402969Z",
     "iopub.status.busy": "2022-10-15T08:24:38.402074Z",
     "iopub.status.idle": "2022-10-15T08:24:38.441703Z",
     "shell.execute_reply": "2022-10-15T08:24:38.440341Z"
    },
    "papermill": {
     "duration": 0.049281,
     "end_time": "2022-10-15T08:24:38.444480",
     "exception": false,
     "start_time": "2022-10-15T08:24:38.395199",
     "status": "completed"
    },
    "tags": []
   },
   "outputs": [
    {
     "data": {
      "application/javascript": [
       "parent.postMessage({\"jupyterEvent\": \"custom.exercise_interaction\", \"data\": {\"outcomeType\": 1, \"valueTowardsCompletion\": 0.3333333333333333, \"interactionType\": 1, \"questionType\": 2, \"questionId\": \"3_SaveCSV\", \"learnToolsVersion\": \"0.3.4\", \"failureMessage\": \"\", \"exceptionClass\": \"\", \"trace\": \"\"}}, \"*\")"
      ],
      "text/plain": [
       "<IPython.core.display.Javascript object>"
      ]
     },
     "metadata": {},
     "output_type": "display_data"
    },
    {
     "data": {
      "text/markdown": [
       "<span style=\"color:#33cc33\">Correct</span>"
      ],
      "text/plain": [
       "Correct"
      ]
     },
     "metadata": {},
     "output_type": "display_data"
    }
   ],
   "source": [
    "# TODO: Save the police killings dataset to CSV\n",
    "police_killings.to_csv(\"my_file.csv\")\n",
    "\n",
    "# Check your answer\n",
    "q3.check()"
   ]
  },
  {
   "cell_type": "code",
   "execution_count": 10,
   "id": "f20e199d",
   "metadata": {
    "execution": {
     "iopub.execute_input": "2022-10-15T08:24:38.458483Z",
     "iopub.status.busy": "2022-10-15T08:24:38.457850Z",
     "iopub.status.idle": "2022-10-15T08:24:38.463690Z",
     "shell.execute_reply": "2022-10-15T08:24:38.462485Z"
    },
    "papermill": {
     "duration": 0.016103,
     "end_time": "2022-10-15T08:24:38.466325",
     "exception": false,
     "start_time": "2022-10-15T08:24:38.450222",
     "status": "completed"
    },
    "tags": []
   },
   "outputs": [],
   "source": [
    "# Lines below will give you a hint or solution code\n",
    "#q3.hint()\n",
    "#q3.solution()"
   ]
  },
  {
   "cell_type": "markdown",
   "id": "c94a8bda",
   "metadata": {
    "papermill": {
     "duration": 0.005345,
     "end_time": "2022-10-15T08:24:38.477563",
     "exception": false,
     "start_time": "2022-10-15T08:24:38.472218",
     "status": "completed"
    },
    "tags": []
   },
   "source": [
    "# (Optional) More practice\n",
    "\n",
    "Check out [this dataset of files in different character encodings](https://www.kaggle.com/rtatman/character-encoding-examples). Can you read in all the files with their original encodings and them save them out as UTF-8 files?\n",
    "\n",
    "If you have a file that's in UTF-8 but has just a couple of weird-looking characters in it, you can try out the [ftfy module](https://ftfy.readthedocs.io/en/latest/#) and see if it helps. \n",
    "\n",
    "# Keep going\n",
    "\n",
    "In the final lesson, learn how to [**clean up inconsistent text entries**](https://www.kaggle.com/alexisbcook/inconsistent-data-entry) in your dataset."
   ]
  },
  {
   "cell_type": "markdown",
   "id": "1cf22199",
   "metadata": {
    "papermill": {
     "duration": 0.005305,
     "end_time": "2022-10-15T08:24:38.488506",
     "exception": false,
     "start_time": "2022-10-15T08:24:38.483201",
     "status": "completed"
    },
    "tags": []
   },
   "source": [
    "---\n",
    "\n",
    "\n",
    "\n",
    "\n",
    "*Have questions or comments? Visit the [course discussion forum](https://www.kaggle.com/learn/data-cleaning/discussion) to chat with other learners.*"
   ]
  }
 ],
 "metadata": {
  "kernelspec": {
   "display_name": "Python 3",
   "language": "python",
   "name": "python3"
  },
  "language_info": {
   "codemirror_mode": {
    "name": "ipython",
    "version": 3
   },
   "file_extension": ".py",
   "mimetype": "text/x-python",
   "name": "python",
   "nbconvert_exporter": "python",
   "pygments_lexer": "ipython3",
   "version": "3.7.12"
  },
  "papermill": {
   "default_parameters": {},
   "duration": 11.185561,
   "end_time": "2022-10-15T08:24:39.216829",
   "environment_variables": {},
   "exception": null,
   "input_path": "__notebook__.ipynb",
   "output_path": "__notebook__.ipynb",
   "parameters": {},
   "start_time": "2022-10-15T08:24:28.031268",
   "version": "2.3.4"
  }
 },
 "nbformat": 4,
 "nbformat_minor": 5
}
